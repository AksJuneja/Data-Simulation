{
 "cells": [
  {
   "cell_type": "code",
   "execution_count": 1,
   "metadata": {},
   "outputs": [
    {
     "name": "stdout",
     "output_type": "stream",
     "text": [
      "Collecting simpy\n",
      "  Downloading simpy-4.0.1-py2.py3-none-any.whl (29 kB)\n",
      "Installing collected packages: simpy\n",
      "Successfully installed simpy-4.0.1\n",
      "Note: you may need to restart the kernel to use updated packages.\n"
     ]
    }
   ],
   "source": [
    "%pip install simpy"
   ]
  },
  {
   "cell_type": "code",
   "execution_count": 1,
   "metadata": {},
   "outputs": [],
   "source": [
    "import random\n",
    "import simpy\n",
    "RANDOM_SEED = 42\n",
    "NEW_CUSTOMERS = 10 # Total number of customers\n",
    "INTERVAL_CUSTOMERS = 15.0 # Generate new customers roughly every x seconds\n",
    "MIN_PATIENCE = 1 # Min. customer patience\n",
    "MAX_PATIENCE = 3 # Max. customer patience"
   ]
  },
  {
   "cell_type": "code",
   "execution_count": 2,
   "metadata": {},
   "outputs": [],
   "source": [
    "def source(env, number, interval, counter):\n",
    "  \"\"\"Source generates customers randomly\"\"\"\n",
    "  for i in range(number):\n",
    "    c = customer(env, 'Customer%02d' % i, counter, time_in_bank=12.0)\n",
    "    env.process(c)\n",
    "    t = random.expovariate(1.0 / interval)\n",
    "    yield env.timeout(t)"
   ]
  },
  {
   "cell_type": "code",
   "execution_count": 3,
   "metadata": {},
   "outputs": [],
   "source": [
    "def customer(env, name, counter, time_in_bank):\n",
    "  \"\"\"Customer arrives, is served and leaves.\"\"\"\n",
    "  arrive = env.now\n",
    "  print('%7.4f %s: Arrived' % (arrive, name))\n",
    "  with counter.request() as req:\n",
    "    patience = random.uniform(MIN_PATIENCE, MAX_PATIENCE)\n",
    "    # Wait for the counter or abort at the end of our tether\n",
    "    results = yield req | env.timeout(patience)\n",
    "    wait = env.now - arrive\n",
    "\n",
    "    if req in results:\n",
    "      # We got to the counter\n",
    "      print('%7.4f %s: Waited %6.3f' % (env.now, name, wait))\n",
    "      tib = random.expovariate(1.0 / time_in_bank)\n",
    "      yield env.timeout(tib)\n",
    "      print('%7.4f %s: Finished' % (env.now, name))\n",
    "    else:\n",
    "      # We reneged\n",
    "      print('%7.4f %s: RENEGED after %6.3f' % (env.now, name, wait))"
   ]
  },
  {
   "cell_type": "code",
   "execution_count": 4,
   "metadata": {},
   "outputs": [
    {
     "name": "stdout",
     "output_type": "stream",
     "text": [
      "Bank renege\n",
      " 0.0000 Customer00: Arrived\n",
      " 0.0000 Customer00: Waited  0.000\n",
      " 3.8595 Customer00: Finished\n",
      "15.3009 Customer01: Arrived\n",
      "15.3009 Customer01: Waited  0.000\n",
      "19.0897 Customer02: Arrived\n",
      "20.2636 Customer02: RENEGED after  1.174\n",
      "28.8510 Customer01: Finished\n",
      "52.4990 Customer03: Arrived\n",
      "52.4990 Customer03: Waited  0.000\n",
      "55.4596 Customer03: Finished\n",
      "60.7197 Customer04: Arrived\n",
      "60.7197 Customer04: Waited  0.000\n",
      "63.3800 Customer04: Finished\n",
      "71.2784 Customer05: Arrived\n",
      "71.2784 Customer05: Waited  0.000\n",
      "74.2668 Customer05: Finished\n",
      "87.0208 Customer06: Arrived\n",
      "87.0208 Customer06: Waited  0.000\n",
      "87.0991 Customer06: Finished\n",
      "100.3680 Customer07: Arrived\n",
      "100.3680 Customer07: Waited  0.000\n",
      "105.3587 Customer07: Finished\n",
      "124.9524 Customer08: Arrived\n",
      "124.9524 Customer08: Waited  0.000\n",
      "127.4872 Customer09: Arrived\n",
      "128.6807 Customer09: RENEGED after  1.193\n",
      "129.8769 Customer08: Finished\n"
     ]
    }
   ],
   "source": [
    "print('Bank renege')\n",
    "random.seed(RANDOM_SEED)\n",
    "env = simpy.Environment()\n",
    "counter = simpy.Resource(env, capacity=1)\n",
    "env.process(source(env, NEW_CUSTOMERS, INTERVAL_CUSTOMERS, counter))\n",
    "env.run()"
   ]
  },
  {
   "cell_type": "code",
   "execution_count": null,
   "metadata": {},
   "outputs": [],
   "source": []
  }
 ],
 "metadata": {
  "kernelspec": {
   "display_name": "Python 3",
   "language": "python",
   "name": "python3"
  },
  "language_info": {
   "codemirror_mode": {
    "name": "ipython",
    "version": 3
   },
   "file_extension": ".py",
   "mimetype": "text/x-python",
   "name": "python",
   "nbconvert_exporter": "python",
   "pygments_lexer": "ipython3",
   "version": "3.6.10"
  }
 },
 "nbformat": 4,
 "nbformat_minor": 4
}
