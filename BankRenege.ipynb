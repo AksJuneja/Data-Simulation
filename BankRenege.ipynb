{
  "nbformat": 4,
  "nbformat_minor": 0,
  "metadata": {
    "colab": {
      "name": "BankRenege.ipynb",
      "provenance": []
    },
    "kernelspec": {
      "name": "python3",
      "display_name": "Python 3"
    }
  },
  "cells": [
    {
      "cell_type": "markdown",
      "metadata": {
        "id": "qusWjn62nrCp",
        "colab_type": "text"
      },
      "source": [
        "**Bank Renege:**\n",
        "This models a bank counter and customers arriving t random times and with each customer having a certain patience. It\n",
        "waits to get to the counter until she’s at the end of her tether. If she gets to the counter, she uses it for a while before\n",
        "releasing it."
      ]
    },
    {
      "cell_type": "code",
      "metadata": {
        "id": "Uir56irypbw0",
        "colab_type": "code",
        "colab": {
          "base_uri": "https://localhost:8080/",
          "height": 34
        },
        "outputId": "c7654d46-7077-48d5-cc39-5a6280dc6637"
      },
      "source": [
        "%pip install simpy"
      ],
      "execution_count": 14,
      "outputs": [
        {
          "output_type": "stream",
          "text": [
            "Requirement already satisfied: simpy in /usr/local/lib/python3.6/dist-packages (4.0.1)\n"
          ],
          "name": "stdout"
        }
      ]
    },
    {
      "cell_type": "code",
      "metadata": {
        "id": "u5ti43XfofRR",
        "colab_type": "code",
        "colab": {}
      },
      "source": [
        "import random\n",
        "import simpy\n",
        "RANDOM_SEED = 42\n",
        "NEW_CUSTOMERS = 10 # Total number of customers\n",
        "INTERVAL_CUSTOMERS = 15.0 # Generate new customers roughly every x seconds\n",
        "MIN_PATIENCE = 1 # Min. customer patience\n",
        "MAX_PATIENCE = 3 # Max. customer patience"
      ],
      "execution_count": 19,
      "outputs": []
    },
    {
      "cell_type": "code",
      "metadata": {
        "id": "AyIwAmwIo1EL",
        "colab_type": "code",
        "colab": {}
      },
      "source": [
        "def source(env, number, interval, counter):\n",
        "  \"\"\"Source generates customers randomly\"\"\"\n",
        "  for i in range(number):\n",
        "    c = customer(env, 'Customer%02d' % i, counter, time_in_bank=12.0)\n",
        "    env.process(c)\n",
        "    t = random.expovariate(1.0 / interval)\n",
        "    yield env.timeout(t)"
      ],
      "execution_count": 20,
      "outputs": []
    },
    {
      "cell_type": "code",
      "metadata": {
        "id": "rFE1fl2bo59R",
        "colab_type": "code",
        "colab": {}
      },
      "source": [
        "def customer(env, name, counter, time_in_bank):\n",
        "  \"\"\"Customer arrives, is served and leaves.\"\"\"\n",
        "  arrive = env.now\n",
        "  print('%7.4f %s: Arrived' % (arrive, name))\n",
        "  with counter.request() as req:\n",
        "    patience = random.uniform(MIN_PATIENCE, MAX_PATIENCE)\n",
        "    # Wait for the counter or abort at the end of our tether\n",
        "    results = yield req | env.timeout(patience)\n",
        "    wait = env.now - arrive\n",
        "\n",
        "    if req in results:\n",
        "      # We got to the counter\n",
        "      print('%7.4f %s: Waited %6.3f' % (env.now, name, wait))\n",
        "      tib = random.expovariate(1.0 / time_in_bank)\n",
        "      yield env.timeout(tib)\n",
        "      print('%7.4f %s: Finished' % (env.now, name))\n",
        "    else:\n",
        "      # We reneged\n",
        "      print('%7.4f %s: RENEGED after %6.3f' % (env.now, name, wait))"
      ],
      "execution_count": 21,
      "outputs": []
    },
    {
      "cell_type": "code",
      "metadata": {
        "id": "SKx1dDW6qUfe",
        "colab_type": "code",
        "colab": {
          "base_uri": "https://localhost:8080/",
          "height": 510
        },
        "outputId": "ba4c4cc3-79ea-43ef-c222-67ef01951f85"
      },
      "source": [
        "print('Bank renege')\n",
        "random.seed(RANDOM_SEED)\n",
        "env = simpy.Environment()\n",
        "counter = simpy.Resource(env, capacity=1)\n",
        "env.process(source(env, NEW_CUSTOMERS, INTERVAL_CUSTOMERS, counter))\n",
        "env.run()"
      ],
      "execution_count": 22,
      "outputs": [
        {
          "output_type": "stream",
          "text": [
            "Bank renege\n",
            " 0.0000 Customer00: Arrived\n",
            " 0.0000 Customer00: Waited  0.000\n",
            " 3.8595 Customer00: Finished\n",
            "15.3009 Customer01: Arrived\n",
            "15.3009 Customer01: Waited  0.000\n",
            "19.0897 Customer02: Arrived\n",
            "20.2636 Customer02: RENEGED after  1.174\n",
            "28.8510 Customer01: Finished\n",
            "52.4990 Customer03: Arrived\n",
            "52.4990 Customer03: Waited  0.000\n",
            "55.4596 Customer03: Finished\n",
            "60.7197 Customer04: Arrived\n",
            "60.7197 Customer04: Waited  0.000\n",
            "63.3800 Customer04: Finished\n",
            "71.2784 Customer05: Arrived\n",
            "71.2784 Customer05: Waited  0.000\n",
            "74.2668 Customer05: Finished\n",
            "87.0208 Customer06: Arrived\n",
            "87.0208 Customer06: Waited  0.000\n",
            "87.0991 Customer06: Finished\n",
            "100.3680 Customer07: Arrived\n",
            "100.3680 Customer07: Waited  0.000\n",
            "105.3587 Customer07: Finished\n",
            "124.9524 Customer08: Arrived\n",
            "124.9524 Customer08: Waited  0.000\n",
            "127.4872 Customer09: Arrived\n",
            "128.6807 Customer09: RENEGED after  1.193\n",
            "129.8769 Customer08: Finished\n"
          ],
          "name": "stdout"
        }
      ]
    }
  ]
}